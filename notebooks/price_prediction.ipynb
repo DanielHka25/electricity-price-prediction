{
 "cells": [
  {
   "cell_type": "markdown",
   "id": "add9325e-ed9b-41ea-bdac-12502f1a4a01",
   "metadata": {},
   "source": [
    "### Energy Price Prediction\n",
    "\n",
    "TODO: project description\n",
    "\n"
   ]
  },
  {
   "cell_type": "code",
   "execution_count": 1,
   "id": "e515e00f-ac36-4b1c-8352-dc640bd7f7cd",
   "metadata": {},
   "outputs": [
    {
     "name": "stdout",
     "output_type": "stream",
     "text": [
      "[1 2 3]\n",
      "numpy is imported\n"
     ]
    }
   ],
   "source": [
    "import numpy as np\n",
    "\n",
    "print(np.array([1, 2, 3]))\n",
    "print(\"numpy is imported\")\n"
   ]
  },
  {
   "cell_type": "code",
   "execution_count": null,
   "id": "5c9ec321-3e89-41f0-92df-a6a64b741310",
   "metadata": {},
   "outputs": [],
   "source": []
  }
 ],
 "metadata": {
  "kernelspec": {
   "display_name": ".venv",
   "language": "python",
   "name": "python3"
  },
  "language_info": {
   "codemirror_mode": {
    "name": "ipython",
    "version": 3
   },
   "file_extension": ".py",
   "mimetype": "text/x-python",
   "name": "python",
   "nbconvert_exporter": "python",
   "pygments_lexer": "ipython3",
   "version": "3.13.2"
  }
 },
 "nbformat": 4,
 "nbformat_minor": 5
}
